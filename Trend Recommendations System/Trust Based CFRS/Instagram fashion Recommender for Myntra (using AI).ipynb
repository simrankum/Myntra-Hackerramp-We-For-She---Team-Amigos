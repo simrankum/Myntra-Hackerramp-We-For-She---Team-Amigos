{
 "cells": [
  {
   "cell_type": "markdown",
   "id": "981a1575",
   "metadata": {},
   "source": [
    "# Importing necessary libraries "
   ]
  },
  {
   "cell_type": "code",
   "execution_count": 10,
   "id": "2b6e97e9",
   "metadata": {},
   "outputs": [],
   "source": [
    "import pandas as pd\n",
    "import numpy as np\n",
    "from sklearn.feature_extraction.text import TfidfVectorizer\n",
    "from sklearn.metrics.pairwise import cosine_similarity\n",
    "from implicit.als import AlternatingLeastSquares\n",
    "from scipy.sparse import csr_matrix\n",
    "from sklearn.model_selection import train_test_split\n",
    "from sklearn.metrics import mean_squared_error\n",
    "from math import sqrt\n"
   ]
  },
  {
   "cell_type": "markdown",
   "id": "dca22570",
   "metadata": {},
   "source": [
    "# Preprocessing the data  "
   ]
  },
  {
   "cell_type": "code",
   "execution_count": 11,
   "id": "8052e9eb",
   "metadata": {},
   "outputs": [
    {
     "data": {
      "text/html": [
       "<div>\n",
       "<style scoped>\n",
       "    .dataframe tbody tr th:only-of-type {\n",
       "        vertical-align: middle;\n",
       "    }\n",
       "\n",
       "    .dataframe tbody tr th {\n",
       "        vertical-align: top;\n",
       "    }\n",
       "\n",
       "    .dataframe thead th {\n",
       "        text-align: right;\n",
       "    }\n",
       "</style>\n",
       "<table border=\"1\" class=\"dataframe\">\n",
       "  <thead>\n",
       "    <tr style=\"text-align: right;\">\n",
       "      <th></th>\n",
       "      <th>image_url</th>\n",
       "      <th>likes</th>\n",
       "      <th>category</th>\n",
       "      <th>tags</th>\n",
       "    </tr>\n",
       "  </thead>\n",
       "  <tbody>\n",
       "    <tr>\n",
       "      <th>0</th>\n",
       "      <td>https://scontent.cdninstagram.com/v/t39.30808-...</td>\n",
       "      <td>200</td>\n",
       "      <td>ethnic</td>\n",
       "      <td>['#KingaMathe', '#bayern', '#bavaria', '#leder...</td>\n",
       "    </tr>\n",
       "    <tr>\n",
       "      <th>1</th>\n",
       "      <td>https://scontent.cdninstagram.com/v/t39.30808-...</td>\n",
       "      <td>200</td>\n",
       "      <td>ethnic</td>\n",
       "      <td>['#traditionaloutfit', '#indianfashion', '#men...</td>\n",
       "    </tr>\n",
       "    <tr>\n",
       "      <th>2</th>\n",
       "      <td>https://scontent.cdninstagram.com/v/t51.29350-...</td>\n",
       "      <td>200</td>\n",
       "      <td>ethnic</td>\n",
       "      <td>['#着物', '#着物好き', '#着物コーディネート備忘録', '#名古屋帯', '#小...</td>\n",
       "    </tr>\n",
       "    <tr>\n",
       "      <th>3</th>\n",
       "      <td>https://scontent.cdninstagram.com/v/t51.29350-...</td>\n",
       "      <td>796</td>\n",
       "      <td>ethnic</td>\n",
       "      <td>['#keralaphotography', '#traditionaloutfit', '...</td>\n",
       "    </tr>\n",
       "    <tr>\n",
       "      <th>4</th>\n",
       "      <td>https://scontent.cdninstagram.com/v/t51.29350-...</td>\n",
       "      <td>636</td>\n",
       "      <td>ethnic</td>\n",
       "      <td>['#mauritius🇲🇺', '#traditionaloutfit', '#tamil...</td>\n",
       "    </tr>\n",
       "    <tr>\n",
       "      <th>...</th>\n",
       "      <td>...</td>\n",
       "      <td>...</td>\n",
       "      <td>...</td>\n",
       "      <td>...</td>\n",
       "    </tr>\n",
       "    <tr>\n",
       "      <th>74</th>\n",
       "      <td>https://scontent.cdninstagram.com/v/t51.29350-...</td>\n",
       "      <td>451</td>\n",
       "      <td>dress</td>\n",
       "      <td>['#eurosummer', '#summeroutfit', '#ootd', '#oo...</td>\n",
       "    </tr>\n",
       "    <tr>\n",
       "      <th>75</th>\n",
       "      <td>https://scontent.cdninstagram.com/v/t39.30808-...</td>\n",
       "      <td>200</td>\n",
       "      <td>top</td>\n",
       "      <td>['#fashion', '#ootd', '#outfit', '#instafashio...</td>\n",
       "    </tr>\n",
       "    <tr>\n",
       "      <th>76</th>\n",
       "      <td>https://scontent.cdninstagram.com/v/t51.29350-...</td>\n",
       "      <td>313</td>\n",
       "      <td>dress</td>\n",
       "      <td>[]</td>\n",
       "    </tr>\n",
       "    <tr>\n",
       "      <th>77</th>\n",
       "      <td>https://scontent.cdninstagram.com/v/t51.29350-...</td>\n",
       "      <td>1,016</td>\n",
       "      <td>top</td>\n",
       "      <td>['#カフェ', '#畑美紗起', '#カジュアル', '#カジュアルコーデ', '#コーデ...</td>\n",
       "    </tr>\n",
       "    <tr>\n",
       "      <th>78</th>\n",
       "      <td>https://scontent.cdninstagram.com/v/t51.29350-...</td>\n",
       "      <td>200</td>\n",
       "      <td>top</td>\n",
       "      <td>['#大人コーデ', '#カジュアルコーデ', '#プチプラコーデ', '#低身長コーデ',...</td>\n",
       "    </tr>\n",
       "  </tbody>\n",
       "</table>\n",
       "<p>79 rows × 4 columns</p>\n",
       "</div>"
      ],
      "text/plain": [
       "                                            image_url  likes category  \\\n",
       "0   https://scontent.cdninstagram.com/v/t39.30808-...    200   ethnic   \n",
       "1   https://scontent.cdninstagram.com/v/t39.30808-...    200   ethnic   \n",
       "2   https://scontent.cdninstagram.com/v/t51.29350-...    200   ethnic   \n",
       "3   https://scontent.cdninstagram.com/v/t51.29350-...    796   ethnic   \n",
       "4   https://scontent.cdninstagram.com/v/t51.29350-...    636   ethnic   \n",
       "..                                                ...    ...      ...   \n",
       "74  https://scontent.cdninstagram.com/v/t51.29350-...    451    dress   \n",
       "75  https://scontent.cdninstagram.com/v/t39.30808-...    200      top   \n",
       "76  https://scontent.cdninstagram.com/v/t51.29350-...    313    dress   \n",
       "77  https://scontent.cdninstagram.com/v/t51.29350-...  1,016      top   \n",
       "78  https://scontent.cdninstagram.com/v/t51.29350-...    200      top   \n",
       "\n",
       "                                                 tags  \n",
       "0   ['#KingaMathe', '#bayern', '#bavaria', '#leder...  \n",
       "1   ['#traditionaloutfit', '#indianfashion', '#men...  \n",
       "2   ['#着物', '#着物好き', '#着物コーディネート備忘録', '#名古屋帯', '#小...  \n",
       "3   ['#keralaphotography', '#traditionaloutfit', '...  \n",
       "4   ['#mauritius🇲🇺', '#traditionaloutfit', '#tamil...  \n",
       "..                                                ...  \n",
       "74  ['#eurosummer', '#summeroutfit', '#ootd', '#oo...  \n",
       "75  ['#fashion', '#ootd', '#outfit', '#instafashio...  \n",
       "76                                                 []  \n",
       "77  ['#カフェ', '#畑美紗起', '#カジュアル', '#カジュアルコーデ', '#コーデ...  \n",
       "78  ['#大人コーデ', '#カジュアルコーデ', '#プチプラコーデ', '#低身長コーデ',...  \n",
       "\n",
       "[79 rows x 4 columns]"
      ]
     },
     "execution_count": 11,
     "metadata": {},
     "output_type": "execute_result"
    }
   ],
   "source": [
    "df = pd.read_csv('DataMyntra(mock).csv')\n",
    "df"
   ]
  },
  {
   "cell_type": "code",
   "execution_count": 12,
   "id": "20bd059d",
   "metadata": {},
   "outputs": [
    {
     "data": {
      "text/html": [
       "<div>\n",
       "<style scoped>\n",
       "    .dataframe tbody tr th:only-of-type {\n",
       "        vertical-align: middle;\n",
       "    }\n",
       "\n",
       "    .dataframe tbody tr th {\n",
       "        vertical-align: top;\n",
       "    }\n",
       "\n",
       "    .dataframe thead th {\n",
       "        text-align: right;\n",
       "    }\n",
       "</style>\n",
       "<table border=\"1\" class=\"dataframe\">\n",
       "  <thead>\n",
       "    <tr style=\"text-align: right;\">\n",
       "      <th></th>\n",
       "      <th>image_url</th>\n",
       "      <th>likes</th>\n",
       "      <th>category</th>\n",
       "      <th>tags</th>\n",
       "      <th>tag_count</th>\n",
       "      <th>user_id</th>\n",
       "      <th>item_id</th>\n",
       "    </tr>\n",
       "  </thead>\n",
       "  <tbody>\n",
       "    <tr>\n",
       "      <th>0</th>\n",
       "      <td>https://scontent.cdninstagram.com/v/t39.30808-...</td>\n",
       "      <td>200.0</td>\n",
       "      <td>ethnic</td>\n",
       "      <td>['#KingaMathe', '#bayern', '#bavaria', '#leder...</td>\n",
       "      <td>21</td>\n",
       "      <td>52</td>\n",
       "      <td>18</td>\n",
       "    </tr>\n",
       "    <tr>\n",
       "      <th>1</th>\n",
       "      <td>https://scontent.cdninstagram.com/v/t39.30808-...</td>\n",
       "      <td>200.0</td>\n",
       "      <td>ethnic</td>\n",
       "      <td>['#traditionaloutfit', '#indianfashion', '#men...</td>\n",
       "      <td>6</td>\n",
       "      <td>93</td>\n",
       "      <td>12</td>\n",
       "    </tr>\n",
       "    <tr>\n",
       "      <th>2</th>\n",
       "      <td>https://scontent.cdninstagram.com/v/t51.29350-...</td>\n",
       "      <td>200.0</td>\n",
       "      <td>ethnic</td>\n",
       "      <td>['#着物', '#着物好き', '#着物コーディネート備忘録', '#名古屋帯', '#小...</td>\n",
       "      <td>21</td>\n",
       "      <td>15</td>\n",
       "      <td>2</td>\n",
       "    </tr>\n",
       "    <tr>\n",
       "      <th>3</th>\n",
       "      <td>https://scontent.cdninstagram.com/v/t51.29350-...</td>\n",
       "      <td>796.0</td>\n",
       "      <td>ethnic</td>\n",
       "      <td>['#keralaphotography', '#traditionaloutfit', '...</td>\n",
       "      <td>8</td>\n",
       "      <td>72</td>\n",
       "      <td>10</td>\n",
       "    </tr>\n",
       "    <tr>\n",
       "      <th>4</th>\n",
       "      <td>https://scontent.cdninstagram.com/v/t51.29350-...</td>\n",
       "      <td>636.0</td>\n",
       "      <td>ethnic</td>\n",
       "      <td>['#mauritius🇲🇺', '#traditionaloutfit', '#tamil...</td>\n",
       "      <td>3</td>\n",
       "      <td>61</td>\n",
       "      <td>4</td>\n",
       "    </tr>\n",
       "    <tr>\n",
       "      <th>...</th>\n",
       "      <td>...</td>\n",
       "      <td>...</td>\n",
       "      <td>...</td>\n",
       "      <td>...</td>\n",
       "      <td>...</td>\n",
       "      <td>...</td>\n",
       "      <td>...</td>\n",
       "    </tr>\n",
       "    <tr>\n",
       "      <th>74</th>\n",
       "      <td>https://scontent.cdninstagram.com/v/t51.29350-...</td>\n",
       "      <td>451.0</td>\n",
       "      <td>dress</td>\n",
       "      <td>['#eurosummer', '#summeroutfit', '#ootd', '#oo...</td>\n",
       "      <td>7</td>\n",
       "      <td>54</td>\n",
       "      <td>13</td>\n",
       "    </tr>\n",
       "    <tr>\n",
       "      <th>75</th>\n",
       "      <td>https://scontent.cdninstagram.com/v/t39.30808-...</td>\n",
       "      <td>200.0</td>\n",
       "      <td>top</td>\n",
       "      <td>['#fashion', '#ootd', '#outfit', '#instafashio...</td>\n",
       "      <td>27</td>\n",
       "      <td>4</td>\n",
       "      <td>7</td>\n",
       "    </tr>\n",
       "    <tr>\n",
       "      <th>76</th>\n",
       "      <td>https://scontent.cdninstagram.com/v/t51.29350-...</td>\n",
       "      <td>313.0</td>\n",
       "      <td>dress</td>\n",
       "      <td>[]</td>\n",
       "      <td>0</td>\n",
       "      <td>54</td>\n",
       "      <td>19</td>\n",
       "    </tr>\n",
       "    <tr>\n",
       "      <th>77</th>\n",
       "      <td>https://scontent.cdninstagram.com/v/t51.29350-...</td>\n",
       "      <td>1016.0</td>\n",
       "      <td>top</td>\n",
       "      <td>['#カフェ', '#畑美紗起', '#カジュアル', '#カジュアルコーデ', '#コーデ...</td>\n",
       "      <td>24</td>\n",
       "      <td>93</td>\n",
       "      <td>2</td>\n",
       "    </tr>\n",
       "    <tr>\n",
       "      <th>78</th>\n",
       "      <td>https://scontent.cdninstagram.com/v/t51.29350-...</td>\n",
       "      <td>200.0</td>\n",
       "      <td>top</td>\n",
       "      <td>['#大人コーデ', '#カジュアルコーデ', '#プチプラコーデ', '#低身長コーデ',...</td>\n",
       "      <td>24</td>\n",
       "      <td>63</td>\n",
       "      <td>10</td>\n",
       "    </tr>\n",
       "  </tbody>\n",
       "</table>\n",
       "<p>79 rows × 7 columns</p>\n",
       "</div>"
      ],
      "text/plain": [
       "                                            image_url   likes category  \\\n",
       "0   https://scontent.cdninstagram.com/v/t39.30808-...   200.0   ethnic   \n",
       "1   https://scontent.cdninstagram.com/v/t39.30808-...   200.0   ethnic   \n",
       "2   https://scontent.cdninstagram.com/v/t51.29350-...   200.0   ethnic   \n",
       "3   https://scontent.cdninstagram.com/v/t51.29350-...   796.0   ethnic   \n",
       "4   https://scontent.cdninstagram.com/v/t51.29350-...   636.0   ethnic   \n",
       "..                                                ...     ...      ...   \n",
       "74  https://scontent.cdninstagram.com/v/t51.29350-...   451.0    dress   \n",
       "75  https://scontent.cdninstagram.com/v/t39.30808-...   200.0      top   \n",
       "76  https://scontent.cdninstagram.com/v/t51.29350-...   313.0    dress   \n",
       "77  https://scontent.cdninstagram.com/v/t51.29350-...  1016.0      top   \n",
       "78  https://scontent.cdninstagram.com/v/t51.29350-...   200.0      top   \n",
       "\n",
       "                                                 tags  tag_count  user_id  \\\n",
       "0   ['#KingaMathe', '#bayern', '#bavaria', '#leder...         21       52   \n",
       "1   ['#traditionaloutfit', '#indianfashion', '#men...          6       93   \n",
       "2   ['#着物', '#着物好き', '#着物コーディネート備忘録', '#名古屋帯', '#小...         21       15   \n",
       "3   ['#keralaphotography', '#traditionaloutfit', '...          8       72   \n",
       "4   ['#mauritius🇲🇺', '#traditionaloutfit', '#tamil...          3       61   \n",
       "..                                                ...        ...      ...   \n",
       "74  ['#eurosummer', '#summeroutfit', '#ootd', '#oo...          7       54   \n",
       "75  ['#fashion', '#ootd', '#outfit', '#instafashio...         27        4   \n",
       "76                                                 []          0       54   \n",
       "77  ['#カフェ', '#畑美紗起', '#カジュアル', '#カジュアルコーデ', '#コーデ...         24       93   \n",
       "78  ['#大人コーデ', '#カジュアルコーデ', '#プチプラコーデ', '#低身長コーデ',...         24       63   \n",
       "\n",
       "    item_id  \n",
       "0        18  \n",
       "1        12  \n",
       "2         2  \n",
       "3        10  \n",
       "4         4  \n",
       "..      ...  \n",
       "74       13  \n",
       "75        7  \n",
       "76       19  \n",
       "77        2  \n",
       "78       10  \n",
       "\n",
       "[79 rows x 7 columns]"
      ]
     },
     "execution_count": 12,
     "metadata": {},
     "output_type": "execute_result"
    }
   ],
   "source": [
    "df['likes'] = df['likes'].str.replace(',', '').astype(float)\n",
    "def clean_tags(tags):\n",
    "    try:\n",
    "        tags_list = eval(tags)\n",
    "        return len(tags_list)\n",
    "    except:\n",
    "        return 0\n",
    "df['tag_count'] = df['tags'].apply(clean_tags)\n",
    "np.random.seed(42) \n",
    "num_users = 100\n",
    "num_items = 20\n",
    "df['user_id'] = np.random.randint(1, num_users + 1, df.shape[0])\n",
    "df['item_id'] = np.random.randint(1, num_items + 1, df.shape[0])\n",
    "df"
   ]
  },
  {
   "cell_type": "markdown",
   "id": "5cf1ab6a",
   "metadata": {},
   "source": [
    "# Sorting by likes and tags count"
   ]
  },
  {
   "cell_type": "code",
   "execution_count": 13,
   "id": "f8e8a07b",
   "metadata": {},
   "outputs": [],
   "source": [
    "df_sorted = df.sort_values(by=['likes', 'tag_count'], ascending=[False, False])"
   ]
  },
  {
   "cell_type": "markdown",
   "id": "c7841b6a",
   "metadata": {},
   "source": [
    "# Content Based Recommender System "
   ]
  },
  {
   "cell_type": "code",
   "execution_count": 14,
   "id": "e688511b",
   "metadata": {},
   "outputs": [
    {
     "data": {
      "text/plain": [
       "array([[1.        , 0.        , 0.03208507, ..., 0.        , 0.        ,\n",
       "        0.01733238],\n",
       "       [0.        , 1.        , 0.        , ..., 0.11386067, 0.08353022,\n",
       "        0.        ],\n",
       "       [0.03208507, 0.        , 1.        , ..., 0.        , 0.        ,\n",
       "        0.01340895],\n",
       "       ...,\n",
       "       [0.        , 0.11386067, 0.        , ..., 1.        , 0.13785545,\n",
       "        0.        ],\n",
       "       [0.        , 0.08353022, 0.        , ..., 0.13785545, 1.        ,\n",
       "        0.        ],\n",
       "       [0.01733238, 0.        , 0.01340895, ..., 0.        , 0.        ,\n",
       "        1.        ]])"
      ]
     },
     "execution_count": 14,
     "metadata": {},
     "output_type": "execute_result"
    }
   ],
   "source": [
    "tfidf_vectorizer = TfidfVectorizer(stop_words='english')\n",
    "tfidf_matrix = tfidf_vectorizer.fit_transform(df_sorted['tags'].astype('str'))\n",
    "content_similarity = cosine_similarity(tfidf_matrix, tfidf_matrix)\n",
    "content_similarity"
   ]
  },
  {
   "cell_type": "markdown",
   "id": "8658ca7f",
   "metadata": {},
   "source": [
    " # Model Based Collaborative Filtering Recommender System ( CFRS)"
   ]
  },
  {
   "cell_type": "code",
   "execution_count": 15,
   "id": "d9db1231",
   "metadata": {},
   "outputs": [
    {
     "data": {
      "application/vnd.jupyter.widget-view+json": {
       "model_id": "89803f5e6b5c409baf92b8cb024c675e",
       "version_major": 2,
       "version_minor": 0
      },
      "text/plain": [
       "  0%|          | 0/15 [00:00<?, ?it/s]"
      ]
     },
     "metadata": {},
     "output_type": "display_data"
    }
   ],
   "source": [
    "sparse_matrix = csr_matrix((df_sorted['likes'], (df_sorted['user_id'] - 1, df_sorted['item_id'] - 1)))\n",
    "als_model = AlternatingLeastSquares(factors=50, regularization=0.01)\n",
    "als_model.fit(sparse_matrix)"
   ]
  },
  {
   "cell_type": "markdown",
   "id": "8a7ee83f",
   "metadata": {},
   "source": [
    "# Getting Recommendations "
   ]
  },
  {
   "cell_type": "code",
   "execution_count": 16,
   "id": "2aba3ce8",
   "metadata": {},
   "outputs": [
    {
     "name": "stdout",
     "output_type": "stream",
     "text": [
      "Content-Based Re+commendations (based on tags):\n",
      "Image URL: https://scontent.cdninstagram.com/v/t39.30808-6/450410399_18331450717192444_8502096611467183657_n.jpg?stp=dst-jpg_e35&efg=eyJ2ZW5jb2RlX3RhZyI6ImltYWdlX3VybGdlbi45NDJ4OTQzLnNkci5mMzA4MDgifQ&_nc_ht=scontent.cdninstagram.com&_nc_cat=104&_nc_ohc=D_WCFbVQ6PEQ7kNvgFemaG4&edm=APs17CUAAAAA&ccb=7-5&ig_cache_key=MzQwOTE4MDUxMTE5ODg3MzkwNA%3D%3D.2-ccb7-5&oh=00_AYDltqzOGYP4FH6p1JnmYkZi5MzmOTXm0uPBMV45PvWViw&oe=6694B7AB&_nc_sid=10d13b\n",
      "Image URL: https://scontent.cdninstagram.com/v/t51.29350-15/252199216_217829630421592_1743659018382303158_n.jpg?stp=dst-jpg_e35&efg=eyJ2ZW5jb2RlX3RhZyI6ImltYWdlX3VybGdlbi4xMDk5eDEwOTkuc2RyLmYyOTM1MCJ9&_nc_ht=scontent.cdninstagram.com&_nc_cat=104&_nc_ohc=OvaP6A9091YQ7kNvgG7wFlM&edm=APs17CUBAAAA&ccb=7-5&ig_cache_key=MjY5NzkyMDY2MjMzNTUxNzMwNw%3D%3D.2-ccb7-5&oh=00_AYDuDK0-9fsPw-oLjeeSyH37qE_wG8ezCQxq2noTA_zqnw&oe=66949C96&_nc_sid=10d13b\n",
      "Image URL: https://scontent.cdninstagram.com/v/t51.29350-15/450340325_7800071206776140_3993510701127012771_n.webp?stp=dst-jpg_e35&efg=eyJ2ZW5jb2RlX3RhZyI6ImltYWdlX3VybGdlbi44NjR4MTA4MC5zZHIuZjI5MzUwIn0&_nc_ht=scontent.cdninstagram.com&_nc_cat=108&_nc_ohc=7Y9dPkqMju0Q7kNvgE11gma&edm=APs17CUBAAAA&ccb=7-5&ig_cache_key=MzQwNjM4MjY0NzIxMjA0NzM1OA%3D%3D.2-ccb7-5&oh=00_AYAqYDOO-X2GrHiYpfZHxrZxKjH8WbIMoy2j2mRUlLNa1w&oe=6694A07D&_nc_sid=10d13b\n",
      "Image URL: https://scontent.cdninstagram.com/v/t51.29350-15/449783721_3667694100134863_8269281175196820619_n.webp?stp=dst-jpg_e35&efg=eyJ2ZW5jb2RlX3RhZyI6ImltYWdlX3VybGdlbi4xMDgweDEwODAuc2RyLmYyOTM1MCJ9&_nc_ht=scontent.cdninstagram.com&_nc_cat=107&_nc_ohc=9wTLVqPGKBwQ7kNvgEWlsGR&edm=APs17CUBAAAA&ccb=7-5&ig_cache_key=MzQwNTcwMjc5NTc5ODUxNzk4OA%3D%3D.2-ccb7-5&oh=00_AYBB7U_F1pcktMVg5l_SXm-QJNgkuoe_c5NUUYNXHHGlYw&oe=66949962&_nc_sid=10d13b\n",
      "Image URL: https://scontent.cdninstagram.com/v/t51.29350-15/448111288_985335186576050_8049657250139053419_n.jpg?stp=dst-jpg_e35&efg=eyJ2ZW5jb2RlX3RhZyI6ImltYWdlX3VybGdlbi4xNDQweDE0Mzkuc2RyLmYyOTM1MCJ9&_nc_ht=scontent.cdninstagram.com&_nc_cat=102&_nc_ohc=35F18hXvKnYQ7kNvgHJgPka&edm=APs17CUBAAAA&ccb=7-5&ig_cache_key=MzM4ODE0MjI1MzY4MTk1Mjc3NQ%3D%3D.2-ccb7-5&oh=00_AYALAfbYguPc6zemLzQH-ott1YuFVgfPsxkhS65CrEF8fA&oe=6694C406&_nc_sid=10d13b\n",
      "Image URL: https://scontent.cdninstagram.com/v/t51.29350-15/450739323_998805061543214_3044561275911626851_n.jpg?stp=dst-jpg_e35&efg=eyJ2ZW5jb2RlX3RhZyI6ImltYWdlX3VybGdlbi4xNDQweDE4MDAuc2RyLmYyOTM1MCJ9&_nc_ht=scontent.cdninstagram.com&_nc_cat=102&_nc_ohc=AliE7d99DEwQ7kNvgGxXQ55&edm=APs17CUBAAAA&ccb=7-5&ig_cache_key=MzQwOTE2Mjg5NzU4ODUwMDMyOQ%3D%3D.2-ccb7-5&oh=00_AYDhKBlnMzQWQwfVz4Wshcgwj9StrhHJOTkcuGT430ss_Q&oe=6694BE3D&_nc_sid=10d13b\n",
      "Image URL: https://scontent.cdninstagram.com/v/t51.29350-15/449699503_436875622593203_5022578840686429131_n.jpg?stp=dst-jpg_e35&efg=eyJ2ZW5jb2RlX3RhZyI6ImltYWdlX3VybGdlbi4xNDQweDE0NDAuc2RyLmYyOTM1MCJ9&_nc_ht=scontent.cdninstagram.com&_nc_cat=111&_nc_ohc=tUTkTHO0am0Q7kNvgFqA7jn&edm=APs17CUBAAAA&ccb=7-5&ig_cache_key=MzQwMzM2NDk5NTkyNjczNTk1NA%3D%3D.2-ccb7-5&oh=00_AYBTv5Liy6T0suXvt5hpU5Y5oXZGaKXGm1Zk8TIotOxmgQ&oe=66949084&_nc_sid=10d13b\n",
      "Image URL: https://scontent.cdninstagram.com/v/t51.29350-15/356016414_594743876153447_9134936727274948461_n.jpg?stp=dst-jpg_e35&efg=eyJ2ZW5jb2RlX3RhZyI6ImltYWdlX3VybGdlbi4xNDQweDE4MDAuc2RyLmYyOTM1MCJ9&_nc_ht=scontent.cdninstagram.com&_nc_cat=111&_nc_ohc=_IAG8uwvCoQQ7kNvgFhkMgG&gid=e9604226afec4843b20fa58654e57560&edm=APs17CUBAAAA&ccb=7-5&ig_cache_key=MzEzMzgwOTQxNjcwODY2NDA4NA%3D%3D.2-ccb7-5&oh=00_AYDqrjTRNb7ytgKuF0NR-pSNBc7pzv_iUnHRddj1kg6WbA&oe=6694B293&_nc_sid=10d13b\n",
      "Image URL: https://scontent.cdninstagram.com/v/t51.29350-15/243760820_4756893320997249_5698607892156331457_n.webp?stp=dst-jpg_e35&efg=eyJ2ZW5jb2RlX3RhZyI6ImltYWdlX3VybGdlbi4xMDgweDEzNTAuc2RyLmYyOTM1MCJ9&_nc_ht=scontent.cdninstagram.com&_nc_cat=109&_nc_ohc=033Hk9UeBOgQ7kNvgGZdrhM&gid=20f04e437b9945ee8aa8f8bf92ed9f9a&edm=APs17CUBAAAA&ccb=7-5&ig_cache_key=MjY3NDc3NDk2NjkzMzg1MzQ1Nw%3D%3D.2-ccb7-5&oh=00_AYCCzcwN80jO9OH9owqTY5lpF2TV0kmwngXyKegnqsNTgw&oe=6694C185&_nc_sid=10d13b\n",
      "Image URL: https://scontent.cdninstagram.com/v/t51.29350-15/242338773_935182083741986_5468835988830173653_n.jpg?stp=dst-jpg_e35&efg=eyJ2ZW5jb2RlX3RhZyI6ImltYWdlX3VybGdlbi4xMDgweDEzNTAuc2RyLmYyOTM1MCJ9&_nc_ht=scontent.cdninstagram.com&_nc_cat=102&_nc_ohc=KL6daSuGw0UQ7kNvgGDcnZO&gid=755202532eb841afbb705298cc18e435&edm=APs17CUBAAAA&ccb=7-5&ig_cache_key=MjY2NzUzNjMxNjk0MDE3NzUyNQ%3D%3D.2-ccb7-5&oh=00_AYDWHZTiGiQQd2TIJFgaRJk8VBLXhGOYInYXHceANBrgpw&oe=6694A8DD&_nc_sid=10d13b\n"
     ]
    }
   ],
   "source": [
    "user_id = 1  \n",
    "user_vector = als_model.user_factors[user_id - 1]\n",
    "item_factors = als_model.item_factors\n",
    "cf_recommendations = np.argsort(np.dot(item_factors, user_vector))[::-1]\n",
    "\n",
    "\n",
    "print(\"Content-Based Re+commendations (based on tags):\")\n",
    "for idx in content_similarity[user_id - 1].argsort()[::-1][:10]:\n",
    "    print(f\"Image URL: {df_sorted.iloc[idx]['image_url']}\")\n",
    "\n"
   ]
  },
  {
   "cell_type": "code",
   "execution_count": 17,
   "id": "57acb3f4",
   "metadata": {
    "scrolled": false
   },
   "outputs": [
    {
     "name": "stdout",
     "output_type": "stream",
     "text": [
      "Image URL: https://scontent.cdninstagram.com/v/t51.29350-15/449783721_3667694100134863_8269281175196820619_n.webp?stp=dst-jpg_e35&efg=eyJ2ZW5jb2RlX3RhZyI6ImltYWdlX3VybGdlbi4xMDgweDEwODAuc2RyLmYyOTM1MCJ9&_nc_ht=scontent.cdninstagram.com&_nc_cat=107&_nc_ohc=9wTLVqPGKBwQ7kNvgEWlsGR&edm=APs17CUBAAAA&ccb=7-5&ig_cache_key=MzQwNTcwMjc5NTc5ODUxNzk4OA%3D%3D.2-ccb7-5&oh=00_AYBB7U_F1pcktMVg5l_SXm-QJNgkuoe_c5NUUYNXHHGlYw&oe=66949962&_nc_sid=10d13b\n",
      "Image URL: https://scontent.cdninstagram.com/v/t51.29350-15/356016414_594743876153447_9134936727274948461_n.jpg?stp=dst-jpg_e35&efg=eyJ2ZW5jb2RlX3RhZyI6ImltYWdlX3VybGdlbi4xNDQweDE4MDAuc2RyLmYyOTM1MCJ9&_nc_ht=scontent.cdninstagram.com&_nc_cat=111&_nc_ohc=_IAG8uwvCoQQ7kNvgFhkMgG&gid=e9604226afec4843b20fa58654e57560&edm=APs17CUBAAAA&ccb=7-5&ig_cache_key=MzEzMzgwOTQxNjcwODY2NDA4NA%3D%3D.2-ccb7-5&oh=00_AYDqrjTRNb7ytgKuF0NR-pSNBc7pzv_iUnHRddj1kg6WbA&oe=6694B293&_nc_sid=10d13b\n",
      "Image URL: https://scontent.cdninstagram.com/v/t51.29350-15/450805363_835295105214189_149384024900550628_n.jpg?stp=dst-jpg_e35&efg=eyJ2ZW5jb2RlX3RhZyI6ImltYWdlX3VybGdlbi4xMTI1eDE0MDYuc2RyLmYyOTM1MCJ9&_nc_ht=scontent.cdninstagram.com&_nc_cat=109&_nc_ohc=FpMddAAucdsQ7kNvgFnIopT&edm=APs17CUBAAAA&ccb=7-5&ig_cache_key=MzQwOTAzOTM3MzcxODExMTk3Ng%3D%3D.2-ccb7-5&oh=00_AYAbkv9BN_ip_0DImwchw5EZtru_YIM--AbCl3XFOnrehg&oe=66949D99&_nc_sid=10d13b\n",
      "Image URL: https://scontent.cdninstagram.com/v/t51.29350-15/245823220_253347766735072_2404539616990052538_n.jpg?stp=dst-jpg_e35&efg=eyJ2ZW5jb2RlX3RhZyI6ImltYWdlX3VybGdlbi42NzN4NjczLnNkci5mMjkzNTAifQ&_nc_ht=scontent.cdninstagram.com&_nc_cat=104&_nc_ohc=9qTfUyHEnHYQ7kNvgEkJMH4&gid=166c51ffd517468285002a4bd3bdb172&edm=APs17CUBAAAA&ccb=7-5&ig_cache_key=MjY4NDE0ODgyMDA4NjIyMTQxNA%3D%3D.2-ccb7-5&oh=00_AYA3qddSyZWwXIdi0Bgsv1325d8ybtTH0zVY0cVcBqklpQ&oe=66949CB3&_nc_sid=10d13b\n",
      "Image URL: https://scontent.cdninstagram.com/v/t51.29350-15/449858388_379332474772163_2076362991119173769_n.jpg?stp=dst-jpg_e35&efg=eyJ2ZW5jb2RlX3RhZyI6ImltYWdlX3VybGdlbi4xNDQweDE4MDAuc2RyLmYyOTM1MCJ9&_nc_ht=scontent.cdninstagram.com&_nc_cat=111&_nc_ohc=G5khPIiZdmMQ7kNvgGSg0rP&edm=APs17CUBAAAA&ccb=7-5&ig_cache_key=MzQwNjcyMDg2Njk3ODA2ODA4Mg%3D%3D.2-ccb7-5&oh=00_AYBXU80GR6S73G38wf_NNKekP4hXNZ410bmnsFoe-eG6BQ&oe=6694BA23&_nc_sid=10d13b\n",
      "Image URL: https://scontent.cdninstagram.com/v/t51.29350-15/450294088_1524911175107387_4111781830276510754_n.jpg?stp=dst-jpg_e35&efg=eyJ2ZW5jb2RlX3RhZyI6ImltYWdlX3VybGdlbi4xNDQweDE0NDAuc2RyLmYyOTM1MCJ9&_nc_ht=scontent.cdninstagram.com&_nc_cat=111&_nc_ohc=1ktSv9X0ZEoQ7kNvgGeHW8C&gid=752752325fdc45c5ace46c85f94abc25&edm=APs17CUBAAAA&ccb=7-5&ig_cache_key=MzQwNjE0MjMzODIxNTI3MDQ4Ng%3D%3D.2-ccb7-5&oh=00_AYC5nA-W5cdYNJ8TrzDVF0udpukawxS-_okP6o8LTcvTMQ&oe=6694ABE6&_nc_sid=10d13b\n",
      "Image URL: https://scontent.cdninstagram.com/v/t51.29350-15/450347148_8243922512284733_3263776979720902591_n.webp?stp=dst-jpg_e35&efg=eyJ2ZW5jb2RlX3RhZyI6ImltYWdlX3VybGdlbi4xMDgweDEzMDIuc2RyLmYyOTM1MCJ9&_nc_ht=scontent.cdninstagram.com&_nc_cat=105&_nc_ohc=iut82GXp2mkQ7kNvgEK63cS&gid=e097a298b2f341f1ad2c84883652e6fe&edm=APs17CUBAAAA&ccb=7-5&ig_cache_key=MzQwODMwMjAyNjc4MjY3NjU5OA%3D%3D.2-ccb7-5&oh=00_AYDpOWarnokt7lbQFDF93ipPhlj0P8TcbZ5Pzmfzh1KNbA&oe=6694AB75&_nc_sid=10d13b\n",
      "Image URL: https://scontent.cdninstagram.com/v/t39.30808-6/448320541_18299121328084747_8989606439784729381_n.jpg?stp=dst-jpg_e35&efg=eyJ2ZW5jb2RlX3RhZyI6ImltYWdlX3VybGdlbi4xNDQweDE4MDAuc2RyLmYzMDgwOCJ9&_nc_ht=scontent.cdninstagram.com&_nc_cat=107&_nc_ohc=DPzP4jTEUfkQ7kNvgEksXAp&edm=APs17CUAAAAA&ccb=7-5&ig_cache_key=MzM4ODc4MTUzNTA2MDk5NDk2Ng%3D%3D.2-ccb7-5&oh=00_AYCuNe2IHx5zAYHWWOKPQFdncERpruWZnTtQ44cJt4Igcw&oe=6694B503&_nc_sid=10d13b\n",
      "Image URL: https://scontent.cdninstagram.com/v/t51.29350-15/163551089_1587497694789682_6802521553331166274_n.jpg?stp=dst-jpg_e35&efg=eyJ2ZW5jb2RlX3RhZyI6ImltYWdlX3VybGdlbi4xNDQweDE3OTQuc2RyLmYyOTM1MCJ9&_nc_ht=scontent.cdninstagram.com&_nc_cat=110&_nc_ohc=ZEL6XhZWbKkQ7kNvgEiLzMJ&edm=APs17CUBAAAA&ccb=7-5&ig_cache_key=MjUzNjU5NDU0MDc2ODIxOTQ4Nw%3D%3D.2-ccb7-5&oh=00_AYCcXbUyFCE2isbYjvTEC4pObCCebEQ-U5T4N9lrQIQACw&oe=6694AE70&_nc_sid=10d13b\n"
     ]
    }
   ],
   "source": [
    "for item_id in cf_recommendations[:10]:\n",
    "    # Find the corresponding image_url for the recommended item_id\n",
    "    recommended_item = df_sorted[df_sorted['item_id'] == (item_id + 1)]\n",
    "    if not recommended_item.empty:\n",
    "        print(f\"Image URL: {recommended_item['image_url'].values[0]}\")\n",
    "    else:\n",
    "        continue\n"
   ]
  },
  {
   "cell_type": "markdown",
   "id": "34f1da40",
   "metadata": {},
   "source": [
    "# Trust Score Based Recommendation System using User Similarity"
   ]
  },
  {
   "cell_type": "code",
   "execution_count": 35,
   "id": "3f90b8ec",
   "metadata": {},
   "outputs": [
    {
     "name": "stdout",
     "output_type": "stream",
     "text": [
      "    user_id  item_id  total_likes  avg_likes\n",
      "0        52       18        200.0      112.0\n",
      "1         3       18       6523.0      112.0\n",
      "2         3        3       6523.0     1954.0\n",
      "3        21        3        600.0     1954.0\n",
      "4        60        3       2110.0     1954.0\n",
      "..      ...      ...          ...        ...\n",
      "74       42        5        138.0      326.8\n",
      "75       18        5        635.0      326.8\n",
      "76        9        5         33.0      326.8\n",
      "77       81        5        628.0      326.8\n",
      "78       35       20         70.0       70.0\n",
      "\n",
      "[79 rows x 4 columns]\n"
     ]
    },
    {
     "data": {
      "application/vnd.jupyter.widget-view+json": {
       "model_id": "6b256334fbeb4bf38bcc1f395b5ae15b",
       "version_major": 2,
       "version_minor": 0
      },
      "text/plain": [
       "  0%|          | 0/20 [00:00<?, ?it/s]"
      ]
     },
     "metadata": {},
     "output_type": "display_data"
    },
    {
     "name": "stdout",
     "output_type": "stream",
     "text": [
      "Trust-based ALS Recommendations for User 0: [ 7  9  5  4 13  2  1  6  8  0]\n"
     ]
    }
   ],
   "source": [
    "\n",
    "user_total_likes = df.groupby('user_id')['likes'].sum().reset_index()\n",
    "user_total_likes.columns = ['user_id', 'total_likes']\n",
    "\n",
    "\n",
    "item_avg_likes = df.groupby('item_id')['likes'].mean().reset_index()\n",
    "item_avg_likes.columns = ['item_id', 'avg_likes']\n",
    "\n",
    "\n",
    "df = df.merge(user_total_likes, on='user_id', how='left')\n",
    "df = df.merge(item_avg_likes, on='item_id', how='left')\n",
    "\n",
    "print(df[['user_id', 'item_id', 'total_likes', 'avg_likes']])\n",
    "\n",
    "df['trust_score'] = 0.5 * df['total_likes'] + 0.5 * df['avg_likes']\n",
    "\n",
    "df_aggregated = df.groupby(['user_id', 'item_id'])['trust_score'].sum().reset_index()\n",
    "\n",
    "\n",
    "interaction_matrix = df_aggregated.pivot(index='user_id', columns='item_id', values='trust_score').fillna(0)\n",
    "\n",
    "\n",
    "user_similarity = cosine_similarity(interaction_matrix)\n",
    "\n",
    "def get_trust_based_als_recommendations(model, user_index, user_similarity, interaction_matrix, top_n=10):\n",
    "    user_ratings = interaction_matrix.iloc[user_index].values\n",
    "    user_similarities = user_similarity[user_index]\n",
    "    weighted_ratings = np.dot(user_similarities, interaction_matrix) / np.sum(user_similarities)\n",
    "    \n",
    "    recommendations = np.argsort(weighted_ratings)[::-1][:top_n]\n",
    "    return recommendations\n",
    "\n",
    "\n",
    "interaction_matrix_sparse = csr_matrix(interaction_matrix.values)\n",
    "\n",
    "als_model = AlternatingLeastSquares(factors=50, regularization=0.01, iterations=20)\n",
    "als_model.fit(interaction_matrix_sparse)\n",
    "\n",
    "user_index = 0\n",
    "trust_based_recommendations = get_trust_based_als_recommendations(als_model, user_index, user_similarity, interaction_matrix)\n",
    "\n",
    "print(f'Trust-based ALS Recommendations for User {user_index}: {trust_based_recommendations}')\n",
    "\n"
   ]
  },
  {
   "cell_type": "code",
   "execution_count": 29,
   "id": "8a955959",
   "metadata": {},
   "outputs": [
    {
     "name": "stdout",
     "output_type": "stream",
     "text": [
      "Image URL: https://scontent.cdninstagram.com/v/t51.29350-15/449082072_1926208807825357_5296329630719906286_n.webp?stp=dst-jpg_e35&efg=eyJ2ZW5jb2RlX3RhZyI6ImltYWdlX3VybGdlbi41MTJ4NTEyLnNkci5mMjkzNTAifQ&_nc_ht=scontent.cdninstagram.com&_nc_cat=101&_nc_ohc=YMyHv-s-GxAQ7kNvgENzYfj&edm=APs17CUBAAAA&ccb=7-5&ig_cache_key=MzM5OTExNzAxNzIzNTA5MzE2OQ%3D%3D.2-ccb7-5&oh=00_AYDFkT6Xa2annJ0nWkppd-hjsYWd04XsdaVv-__hrx78bQ&oe=6694B626&_nc_sid=10d13b\n",
      "Image URL: https://scontent.cdninstagram.com/v/t51.29350-15/228657353_1947611565408344_5633314935069124525_n.jpg?stp=dst-jpg_e35&efg=eyJ2ZW5jb2RlX3RhZyI6ImltYWdlX3VybGdlbi4xNDQweDE4MDAuc2RyLmYyOTM1MCJ9&_nc_ht=scontent.cdninstagram.com&_nc_cat=108&_nc_ohc=l5s_t3PU_NMQ7kNvgFy7BhC&edm=APs17CUBAAAA&ccb=7-5&ig_cache_key=MjYzMDA3ODUxNjEwMjU2NDg3OQ%3D%3D.2-ccb7-5&oh=00_AYAh_OEMNyo9Dt3UXYLI7bpbjMnTp7RpyQxh2MiavGCpag&oe=6694A594&_nc_sid=10d13b\n",
      "Image URL: https://scontent.cdninstagram.com/v/t39.30808-6/450451665_10230005515554693_7007504369406883657_n.jpg?stp=c0.64.1536.1920a_cp6_dst-jpg_e35&efg=eyJ2ZW5jb2RlX3RhZyI6ImltYWdlX3VybGdlbi4xNTM2eDIwNDguc2RyLmYzMDgwOCJ9&_nc_ht=scontent.cdninstagram.com&_nc_cat=109&_nc_ohc=UQLwz_dkQNEQ7kNvgGQTrmr&edm=APs17CUAAAAA&ccb=7-5&ig_cache_key=MzQwOTAyNDkzMzU4MzU0MTU2OQ%3D%3D.2-ccb7-5&oh=00_AYClPZl0zKT5yo-BJRNq3nUeebuoRAKvYki06IlTw99bXg&oe=66948F02&_nc_sid=10d13b\n",
      "Image URL: https://scontent.cdninstagram.com/v/t51.29350-15/449858388_379332474772163_2076362991119173769_n.jpg?stp=dst-jpg_e35&efg=eyJ2ZW5jb2RlX3RhZyI6ImltYWdlX3VybGdlbi4xNDQweDE4MDAuc2RyLmYyOTM1MCJ9&_nc_ht=scontent.cdninstagram.com&_nc_cat=111&_nc_ohc=G5khPIiZdmMQ7kNvgGSg0rP&edm=APs17CUBAAAA&ccb=7-5&ig_cache_key=MzQwNjcyMDg2Njk3ODA2ODA4Mg%3D%3D.2-ccb7-5&oh=00_AYBXU80GR6S73G38wf_NNKekP4hXNZ410bmnsFoe-eG6BQ&oe=6694BA23&_nc_sid=10d13b\n",
      "Image URL: https://scontent.cdninstagram.com/v/t51.29350-15/450343747_871577851656053_74807421865669963_n.jpg?stp=dst-jpg_e15&efg=eyJ2ZW5jb2RlX3RhZyI6ImltYWdlX3VybGdlbi43MjB4MTI3OC5zZHIuZjI5MzUwIn0&_nc_ht=scontent.cdninstagram.com&_nc_cat=105&_nc_ohc=6B7hAOG1XpAQ7kNvgG1-eW-&edm=APs17CUBAAAA&ccb=7-5&ig_cache_key=MzQwNzc4MzA0MTU4MjY3MzE4MQ%3D%3D.2-ccb7-5&oh=00_AYBrnDQBSSKKmb8ITFO0ue1JLMAfGPdcTQxmuUTgp4uu1Q&oe=66949805&_nc_sid=10d13b\n",
      "Image URL: https://scontent.cdninstagram.com/v/t51.29350-15/450805363_835295105214189_149384024900550628_n.jpg?stp=dst-jpg_e35&efg=eyJ2ZW5jb2RlX3RhZyI6ImltYWdlX3VybGdlbi4xMTI1eDE0MDYuc2RyLmYyOTM1MCJ9&_nc_ht=scontent.cdninstagram.com&_nc_cat=109&_nc_ohc=FpMddAAucdsQ7kNvgFnIopT&edm=APs17CUBAAAA&ccb=7-5&ig_cache_key=MzQwOTAzOTM3MzcxODExMTk3Ng%3D%3D.2-ccb7-5&oh=00_AYAbkv9BN_ip_0DImwchw5EZtru_YIM--AbCl3XFOnrehg&oe=66949D99&_nc_sid=10d13b\n",
      "Image URL: https://scontent.cdninstagram.com/v/t39.30808-6/447029411_122178511442032323_6524256535750450771_n.jpg?stp=dst-jpg_e35&efg=eyJ2ZW5jb2RlX3RhZyI6ImltYWdlX3VybGdlbi4yMDAweDIwMDAuc2RyLmYzMDgwOCJ9&_nc_ht=scontent.cdninstagram.com&_nc_cat=103&_nc_ohc=M4T4LZmZPSUQ7kNvgEqszA6&edm=APs17CUAAAAA&ccb=7-5&ig_cache_key=MzM3OTQ3NDk1OTQyMTU1NzM5MA%3D%3D.2-ccb7-5&oh=00_AYB_mlCkl3KvemlF9YwTVhojXNXOKrWiYHqwDC-V5FVphQ&oe=6694AF59&_nc_sid=10d13b\n",
      "Image URL: https://scontent.cdninstagram.com/v/t51.29350-15/449211829_1559811621584942_7018810850739800682_n.webp?stp=dst-jpg_e35&efg=eyJ2ZW5jb2RlX3RhZyI6ImltYWdlX3VybGdlbi41MTJ4NTEyLnNkci5mMjkzNTAifQ&_nc_ht=scontent.cdninstagram.com&_nc_cat=102&_nc_ohc=K-gpgLfOK-wQ7kNvgF5En0N&gid=b3ac6e6b0052403d890f6c01bcfbf7fb&edm=APs17CUBAAAA&ccb=7-5&ig_cache_key=MzM5OTEwOTYyMzc1OTQ5NjQ4OA%3D%3D.2-ccb7-5&oh=00_AYAu0MsucuDZNpw0ydrORCh4S1BLwOHodTGupWrDHZrYpg&oe=6694B32E&_nc_sid=10d13b\n"
     ]
    }
   ],
   "source": [
    "\n",
    "user_index = 0\n",
    "top_n = 10\n",
    "trust_based_recommendations = get_trust_based_als_recommendations(als_model, user_index, user_similarity, interaction_matrix, top_n=top_n)\n",
    "\n",
    "for item_id in trust_based_recommendations:\n",
    "    recommended_item = df[df['item_id'] == item_id]\n",
    "    if not recommended_item.empty:\n",
    "        print(f\"Image URL: {recommended_item['image_url'].values[0]}\")\n",
    "    else:\n",
    "        continue\n"
   ]
  },
  {
   "cell_type": "code",
   "execution_count": null,
   "id": "c48dbf41",
   "metadata": {},
   "outputs": [],
   "source": []
  }
 ],
 "metadata": {
  "kernelspec": {
   "display_name": "Python 3 (ipykernel)",
   "language": "python",
   "name": "python3"
  },
  "language_info": {
   "codemirror_mode": {
    "name": "ipython",
    "version": 3
   },
   "file_extension": ".py",
   "mimetype": "text/x-python",
   "name": "python",
   "nbconvert_exporter": "python",
   "pygments_lexer": "ipython3",
   "version": "3.10.9"
  }
 },
 "nbformat": 4,
 "nbformat_minor": 5
}
